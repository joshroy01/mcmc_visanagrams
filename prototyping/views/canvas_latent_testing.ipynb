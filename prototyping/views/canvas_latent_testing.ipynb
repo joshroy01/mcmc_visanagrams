{
 "cells": [
  {
   "cell_type": "markdown",
   "metadata": {},
   "source": [
    "Tester notebook to ensure that `make_canvas` applies inverse views correctly and that `extract_latents` applies the forward view transform correctly.\n",
    "\n",
    "I run these two functions sequentially 100 times and get the expected output from correctly applying/averaging the views so I think we can say these are verified."
   ]
  },
  {
   "cell_type": "code",
   "execution_count": 7,
   "metadata": {},
   "outputs": [
    {
     "name": "stdout",
     "output_type": "stream",
     "text": [
      "The autoreload extension is already loaded. To reload it, use:\n",
      "  %reload_ext autoreload\n"
     ]
    }
   ],
   "source": [
    "from mcmc_visanagrams.views import VIEW_MAP\n",
    "from mcmc_visanagrams.utils.output import make_canvas\n",
    "from mcmc_visanagrams.utils.latents import extract_latents\n",
    "from mcmc_visanagrams.utils.display import image_from_latents\n",
    "\n",
    "from mcmc_visanagrams.context import ContextList, Context\n",
    "\n",
    "import matplotlib.pyplot as plt\n",
    "import torch\n",
    "import numpy as np\n",
    "\n",
    "%load_ext autoreload\n",
    "%autoreload 2"
   ]
  },
  {
   "cell_type": "code",
   "execution_count": 2,
   "metadata": {},
   "outputs": [],
   "source": [
    "# Make a dummy context\n",
    "\n",
    "guidance_mag = 20\n",
    "\n",
    "context = ContextList()\n",
    "context.append(Context((1, 0, 0), \"a drawing of a penguin\", guidance_mag, \"identity\"))\n",
    "context.append(Context((1, 0, 0), \"a drawing of a giraffe\", guidance_mag, \"rotate_180\"))"
   ]
  },
  {
   "cell_type": "code",
   "execution_count": 14,
   "metadata": {},
   "outputs": [
    {
     "name": "stdout",
     "output_type": "stream",
     "text": [
      "0.0\n",
      "255.0\n",
      "0.0\n",
      "255.0\n",
      "0.0\n",
      "255.0\n"
     ]
    },
    {
     "data": {
      "text/plain": [
       "<matplotlib.image.AxesImage at 0x7f1d6844dd00>"
      ]
     },
     "execution_count": 14,
     "metadata": {},
     "output_type": "execute_result"
    },
    {
     "data": {
      "image/png": "[encoded data removed]",
      "text/plain": [
       "<Figure size 640x480 with 1 Axes>"
      ]
     },
     "metadata": {},
     "output_type": "display_data"
    },
    {
     "data": {
      "image/png": "[encoded data removed]",
      "text/plain": [
       "<Figure size 640x480 with 1 Axes>"
      ]
     },
     "metadata": {},
     "output_type": "display_data"
    },
    {
     "data": {
      "image/png": "[encoded data removed]",
      "text/plain": [
       "<Figure size 640x480 with 1 Axes>"
      ]
     },
     "metadata": {},
     "output_type": "display_data"
    }
   ],
   "source": [
    "latents = torch.ones((2, 3, 64, 64)) * -1.0\n",
    "# latents[0, 0, 32:, 32:] = 1.0\n",
    "# latents[0, 1, 32:, :32] = 1.0\n",
    "latents[0, :, 32:, 32:] = 1.0\n",
    "\n",
    "# Since this latent has had the rotation view applied to it already, we should see the output\n",
    "# with 3 black quadrants and the fourth quadrant pure white\n",
    "latents[1, :, :32, :32] = 1.0\n",
    "\n",
    "sizes = context.collapse_sizes()\n",
    "views = context.collapse_views()\n",
    "\n",
    "for i, sub_lat in enumerate(latents):\n",
    "    img = image_from_latents(sub_lat.unsqueeze(0), clip_dynamic_range=True)\n",
    "    plt.figure()\n",
    "    plt.imshow(img)\n",
    "\n",
    "canvas = make_canvas(latents, 64, sizes, views=views)\n",
    "\n",
    "plt.figure()\n",
    "plt.imshow(image_from_latents(canvas, clip_dynamic_range=True))"
   ]
  },
  {
   "cell_type": "code",
   "execution_count": 15,
   "metadata": {},
   "outputs": [],
   "source": [
    "# sizes = []\n",
    "# views = []\n",
    "# for size, ctx in context.items():\n",
    "#     if isinstance(ctx, list):\n",
    "#         # Means we have multiple views for the same sub-image.\n",
    "#         # NOTE: Hand-waving the extraction of the sub-image here.\n",
    "#         # NOTE: Expected format is channel in zeroth dimension\n",
    "#         for d in ctx:\n",
    "#             view_str = d[\"view\"]\n",
    "#             view = VIEW_MAP[view_str]()\n",
    "#             sizes.append(size)\n",
    "#             views.append(view)\n",
    "sizes = context.collapse_sizes()\n",
    "views = context.collapse_views()\n",
    "\n",
    "latents = extract_latents(canvas, sizes, views=views)"
   ]
  },
  {
   "cell_type": "code",
   "execution_count": 16,
   "metadata": {},
   "outputs": [
    {
     "name": "stdout",
     "output_type": "stream",
     "text": [
      "Step 0 canvas min: -1.0, max: 1.0\n",
      "Step 1 canvas min: -1.0, max: 1.0\n",
      "Step 2 canvas min: -1.0, max: 1.0\n",
      "Step 3 canvas min: -1.0, max: 1.0\n",
      "Step 4 canvas min: -1.0, max: 1.0\n",
      "Step 5 canvas min: -1.0, max: 1.0\n",
      "Step 6 canvas min: -1.0, max: 1.0\n",
      "Step 7 canvas min: -1.0, max: 1.0\n",
      "Step 8 canvas min: -1.0, max: 1.0\n",
      "Step 9 canvas min: -1.0, max: 1.0\n",
      "Step 10 canvas min: -1.0, max: 1.0\n",
      "Step 11 canvas min: -1.0, max: 1.0\n",
      "Step 12 canvas min: -1.0, max: 1.0\n",
      "Step 13 canvas min: -1.0, max: 1.0\n",
      "Step 14 canvas min: -1.0, max: 1.0\n",
      "Step 15 canvas min: -1.0, max: 1.0\n",
      "Step 16 canvas min: -1.0, max: 1.0\n",
      "Step 17 canvas min: -1.0, max: 1.0\n",
      "Step 18 canvas min: -1.0, max: 1.0\n",
      "Step 19 canvas min: -1.0, max: 1.0\n",
      "Step 20 canvas min: -1.0, max: 1.0\n",
      "Step 21 canvas min: -1.0, max: 1.0\n",
      "Step 22 canvas min: -1.0, max: 1.0\n",
      "Step 23 canvas min: -1.0, max: 1.0\n",
      "Step 24 canvas min: -1.0, max: 1.0\n",
      "Step 25 canvas min: -1.0, max: 1.0\n",
      "Step 26 canvas min: -1.0, max: 1.0\n",
      "Step 27 canvas min: -1.0, max: 1.0\n",
      "Step 28 canvas min: -1.0, max: 1.0\n",
      "Step 29 canvas min: -1.0, max: 1.0\n",
      "Step 30 canvas min: -1.0, max: 1.0\n",
      "Step 31 canvas min: -1.0, max: 1.0\n",
      "Step 32 canvas min: -1.0, max: 1.0\n",
      "Step 33 canvas min: -1.0, max: 1.0\n",
      "Step 34 canvas min: -1.0, max: 1.0\n",
      "Step 35 canvas min: -1.0, max: 1.0\n",
      "Step 36 canvas min: -1.0, max: 1.0\n",
      "Step 37 canvas min: -1.0, max: 1.0\n",
      "Step 38 canvas min: -1.0, max: 1.0\n",
      "Step 39 canvas min: -1.0, max: 1.0\n",
      "Step 40 canvas min: -1.0, max: 1.0\n",
      "Step 41 canvas min: -1.0, max: 1.0\n",
      "Step 42 canvas min: -1.0, max: 1.0\n",
      "Step 43 canvas min: -1.0, max: 1.0\n",
      "Step 44 canvas min: -1.0, max: 1.0\n",
      "Step 45 canvas min: -1.0, max: 1.0\n",
      "Step 46 canvas min: -1.0, max: 1.0\n",
      "Step 47 canvas min: -1.0, max: 1.0\n",
      "Step 48 canvas min: -1.0, max: 1.0\n",
      "Step 49 canvas min: -1.0, max: 1.0\n",
      "Step 50 canvas min: -1.0, max: 1.0\n",
      "Step 51 canvas min: -1.0, max: 1.0\n",
      "Step 52 canvas min: -1.0, max: 1.0\n",
      "Step 53 canvas min: -1.0, max: 1.0\n",
      "Step 54 canvas min: -1.0, max: 1.0\n",
      "Step 55 canvas min: -1.0, max: 1.0\n",
      "Step 56 canvas min: -1.0, max: 1.0\n",
      "Step 57 canvas min: -1.0, max: 1.0\n",
      "Step 58 canvas min: -1.0, max: 1.0\n",
      "Step 59 canvas min: -1.0, max: 1.0\n",
      "Step 60 canvas min: -1.0, max: 1.0\n",
      "Step 61 canvas min: -1.0, max: 1.0\n",
      "Step 62 canvas min: -1.0, max: 1.0\n",
      "Step 63 canvas min: -1.0, max: 1.0\n",
      "Step 64 canvas min: -1.0, max: 1.0\n",
      "Step 65 canvas min: -1.0, max: 1.0\n",
      "Step 66 canvas min: -1.0, max: 1.0\n",
      "Step 67 canvas min: -1.0, max: 1.0\n",
      "Step 68 canvas min: -1.0, max: 1.0\n",
      "Step 69 canvas min: -1.0, max: 1.0\n",
      "Step 70 canvas min: -1.0, max: 1.0\n",
      "Step 71 canvas min: -1.0, max: 1.0\n",
      "Step 72 canvas min: -1.0, max: 1.0\n",
      "Step 73 canvas min: -1.0, max: 1.0\n",
      "Step 74 canvas min: -1.0, max: 1.0\n",
      "Step 75 canvas min: -1.0, max: 1.0\n",
      "Step 76 canvas min: -1.0, max: 1.0\n",
      "Step 77 canvas min: -1.0, max: 1.0\n",
      "Step 78 canvas min: -1.0, max: 1.0\n",
      "Step 79 canvas min: -1.0, max: 1.0\n",
      "Step 80 canvas min: -1.0, max: 1.0\n",
      "Step 81 canvas min: -1.0, max: 1.0\n",
      "Step 82 canvas min: -1.0, max: 1.0\n",
      "Step 83 canvas min: -1.0, max: 1.0\n",
      "Step 84 canvas min: -1.0, max: 1.0\n",
      "Step 85 canvas min: -1.0, max: 1.0\n",
      "Step 86 canvas min: -1.0, max: 1.0\n",
      "Step 87 canvas min: -1.0, max: 1.0\n",
      "Step 88 canvas min: -1.0, max: 1.0\n",
      "Step 89 canvas min: -1.0, max: 1.0\n",
      "Step 90 canvas min: -1.0, max: 1.0\n",
      "Step 91 canvas min: -1.0, max: 1.0\n",
      "Step 92 canvas min: -1.0, max: 1.0\n",
      "Step 93 canvas min: -1.0, max: 1.0\n",
      "Step 94 canvas min: -1.0, max: 1.0\n",
      "Step 95 canvas min: -1.0, max: 1.0\n",
      "Step 96 canvas min: -1.0, max: 1.0\n",
      "Step 97 canvas min: -1.0, max: 1.0\n",
      "Step 98 canvas min: -1.0, max: 1.0\n",
      "Step 99 canvas min: -1.0, max: 1.0\n",
      "0.0\n",
      "255.0\n"
     ]
    },
    {
     "data": {
      "text/plain": [
       "Text(0.5, 1.0, 'Step 99')"
      ]
     },
     "execution_count": 16,
     "metadata": {},
     "output_type": "execute_result"
    },
    {
     "data": {
      "image/png": "[encoded data removed]",
      "text/plain": [
       "<Figure size 640x480 with 1 Axes>"
      ]
     },
     "metadata": {},
     "output_type": "display_data"
    }
   ],
   "source": [
    "# Repeatedly apply extraction and making of canvas\n",
    "# canvas = latent\n",
    "canvas_test = canvas.clone()\n",
    "for i in range(100):\n",
    "    print(f\"Step {i} canvas min: {canvas_test.min()}, max: {canvas_test.max()}\")\n",
    "    lats = extract_latents(canvas_test, sizes, views=views)\n",
    "    canvas_test = make_canvas(lats, 64, sizes, views=views)\n",
    "img_test = image_from_latents(canvas_test, clip_dynamic_range=True)\n",
    "plt.figure()\n",
    "plt.imshow(img_test)\n",
    "plt.title(f\"Step {i}\")"
   ]
  },
  {
   "cell_type": "code",
   "execution_count": 8,
   "metadata": {},
   "outputs": [
    {
     "data": {
      "image/png": "[encoded data removed]",
      "text/plain": [
       "<Figure size 640x480 with 1 Axes>"
      ]
     },
     "metadata": {},
     "output_type": "display_data"
    },
    {
     "data": {
      "image/png": "[encoded data removed]",
      "text/plain": [
       "<Figure size 640x480 with 1 Axes>"
      ]
     },
     "metadata": {},
     "output_type": "display_data"
    }
   ],
   "source": [
    "for lat in latents:\n",
    "    plt.figure()\n",
    "    plt.imshow(latent_to_img(lat))"
   ]
  },
  {
   "cell_type": "code",
   "execution_count": 9,
   "metadata": {},
   "outputs": [
    {
     "name": "stderr",
     "output_type": "stream",
     "text": [
      "/home/dcolli23/miniconda3/envs/mcmc_visanagrams/lib/python3.9/site-packages/torch/functional.py:507: UserWarning: torch.meshgrid: in an upcoming release, it will be required to pass the indexing argument. (Triggered internally at /opt/conda/conda-bld/pytorch_1704987277512/work/aten/src/ATen/native/TensorShape.cpp:3549.)\n",
      "  return _VF.meshgrid(tensors, **kwargs)  # type: ignore[attr-defined]\n"
     ]
    }
   ],
   "source": [
    "canvas = make_canvas(latents, 128, sizes, views=views)"
   ]
  },
  {
   "cell_type": "code",
   "execution_count": 13,
   "metadata": {},
   "outputs": [],
   "source": [
    "canvas_np = latent_to_img(canvas)"
   ]
  },
  {
   "cell_type": "code",
   "execution_count": 14,
   "metadata": {},
   "outputs": [
    {
     "data": {
      "text/plain": [
       "<matplotlib.image.AxesImage at 0x7f95282816a0>"
      ]
     },
     "execution_count": 14,
     "metadata": {},
     "output_type": "execute_result"
    },
    {
     "data": {
      "image/png": "[encoded data removed]",
      "text/plain": [
       "<Figure size 640x480 with 1 Axes>"
      ]
     },
     "metadata": {},
     "output_type": "display_data"
    }
   ],
   "source": [
    "plt.figure()\n",
    "plt.imshow(canvas_np)"
   ]
  },
  {
   "cell_type": "code",
   "execution_count": 12,
   "metadata": {},
   "outputs": [
    {
     "data": {
      "text/plain": [
       "array([[[0, 0, 0],\n",
       "        [0, 0, 0],\n",
       "        [0, 0, 0],\n",
       "        ...,\n",
       "        [0, 0, 0],\n",
       "        [0, 0, 0],\n",
       "        [0, 0, 0]],\n",
       "\n",
       "       [[0, 0, 0],\n",
       "        [0, 0, 0],\n",
       "        [0, 0, 0],\n",
       "        ...,\n",
       "        [0, 0, 0],\n",
       "        [0, 0, 0],\n",
       "        [0, 0, 0]],\n",
       "\n",
       "       [[0, 0, 0],\n",
       "        [0, 0, 0],\n",
       "        [0, 0, 0],\n",
       "        ...,\n",
       "        [0, 0, 0],\n",
       "        [0, 0, 0],\n",
       "        [0, 0, 0]],\n",
       "\n",
       "       ...,\n",
       "\n",
       "       [[0, 0, 0],\n",
       "        [0, 0, 0],\n",
       "        [0, 0, 0],\n",
       "        ...,\n",
       "        [0, 0, 0],\n",
       "        [0, 0, 0],\n",
       "        [0, 0, 0]],\n",
       "\n",
       "       [[0, 0, 0],\n",
       "        [0, 0, 0],\n",
       "        [0, 0, 0],\n",
       "        ...,\n",
       "        [0, 0, 0],\n",
       "        [0, 0, 0],\n",
       "        [0, 0, 0]],\n",
       "\n",
       "       [[0, 0, 0],\n",
       "        [0, 0, 0],\n",
       "        [0, 0, 0],\n",
       "        ...,\n",
       "        [0, 0, 0],\n",
       "        [0, 0, 0],\n",
       "        [0, 0, 0]]], dtype=uint8)"
      ]
     },
     "execution_count": 12,
     "metadata": {},
     "output_type": "execute_result"
    }
   ],
   "source": [
    "canvas_np"
   ]
  },
  {
   "cell_type": "code",
   "execution_count": null,
   "metadata": {},
   "outputs": [],
   "source": []
  }
 ],
 "metadata": {
  "kernelspec": {
   "display_name": "mcmc_visanagrams",
   "language": "python",
   "name": "python3"
  },
  "language_info": {
   "codemirror_mode": {
    "name": "ipython",
    "version": 3
   },
   "file_extension": ".py",
   "mimetype": "text/x-python",
   "name": "python",
   "nbconvert_exporter": "python",
   "pygments_lexer": "ipython3",
   "version": "3.9.16"
  }
 },
 "nbformat": 4,
 "nbformat_minor": 2
}
